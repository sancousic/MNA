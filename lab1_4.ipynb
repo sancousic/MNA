{
 "cells": [
  {
   "cell_type": "markdown",
   "metadata": {},
   "source": [
    "# Lab1_4"
   ]
  },
  {
   "cell_type": "code",
   "execution_count": 1,
   "metadata": {},
   "outputs": [],
   "source": [
    "import math\n",
    "import numpy as np\n",
    "import sympy as sm\n",
    "from sympy import Derivative, diff\n",
    "from itertools import groupby\n",
    "import matplotlib.pyplot as plt\n",
    "from tabulate import tabulate\n",
    "from pprint import pprint\n",
    "\n",
    "from IPython.display import display, Latex, clear_output\n",
    "#%matplotlib inline\n",
    "import funcs"
   ]
  },
  {
   "cell_type": "code",
   "execution_count": 2,
   "metadata": {},
   "outputs": [],
   "source": [
    "sm.init_printing(use_latex='mathjax')\n",
    "x, y, k = sm.symbols('x, y, k', real=True)\n",
    "C1, C2 = sm.symbols(\"C1, C2\", real=True)\n",
    "u = sm.Function('u')\n",
    "q = sm.Function('q')\n",
    "ux = u(x)\n",
    "ux1 = Derivative(u(x), x)\n",
    "ux2 = Derivative(u(x), (x, 2))\n",
    "\n",
    "h, uup1, uum1, uu0 = sm.symbols('h, u_i+1, u_i-1, u_i', Function=True)\n",
    "uux1 = (uup1 - uum1)/(2*h)\n",
    "uux2 = (uup1 - 2*uu0 + uum1)/(h**2)"
   ]
  },
  {
   "cell_type": "markdown",
   "metadata": {},
   "source": [
    "## Взять исходные данные из 1-го набора параметров"
   ]
  },
  {
   "cell_type": "code",
   "execution_count": 3,
   "metadata": {},
   "outputs": [],
   "source": [
    "zad1 = {'k': x**2,\n",
    "        'f': 2*x**2 + 2*x,\n",
    "        'a': 0.5, 'UA': 2,\n",
    "        'b': 1.6, 'UB': 6}\n",
    "\n",
    "zad0 = {'K': x,\n",
    "        'f': x**(sm.Pow(3,-1))*4/3,\n",
    "        'a': 0.5, 'UA': 1,\n",
    "        'b': 1, 'UB': 2}"
   ]
  },
  {
   "cell_type": "markdown",
   "metadata": {},
   "source": [
    "## Шаг сетки положить равным (b - a) / 150 "
   ]
  },
  {
   "cell_type": "code",
   "execution_count": 28,
   "metadata": {},
   "outputs": [
    {
     "data": {
      "text/latex": [
       "$\\displaystyle 0.12222222222222223$"
      ],
      "text/plain": [
       "0.12222222222222223"
      ]
     },
     "metadata": {},
     "output_type": "display_data"
    },
    {
     "data": {
      "text/latex": [
       "$\\displaystyle \\left( u_{0}, \\  u_{1}, \\  u_{2}, \\  u_{3}, \\  u_{4}, \\  u_{5}, \\  u_{6}, \\  u_{7}, \\  u_{8}, \\  u_{9}\\right)$"
      ],
      "text/plain": [
       "(u₀, u₁, u₂, u₃, u₄, u₅, u₆, u₇, u₈, u₉)"
      ]
     },
     "metadata": {},
     "output_type": "display_data"
    },
    {
     "data": {
      "text/latex": [
       "$\\displaystyle \\left[ 0.5, \\  0.6222222222222222, \\  0.7444444444444445, \\  0.8666666666666667, \\  0.9888888888888889, \\  1.1111111111111112, \\  1.2333333333333334, \\  1.3555555555555556, \\  1.4777777777777779, \\  1.6\\right]$"
      ],
      "text/plain": [
       "[0.5, 0.6222222222222222, 0.7444444444444445, 0.8666666666666667, 0.9888888888\n",
       "888889, 1.1111111111111112, 1.2333333333333334, 1.3555555555555556, 1.47777777\n",
       "77777779, 1.6]"
      ]
     },
     "metadata": {},
     "output_type": "display_data"
    }
   ],
   "source": [
    "count, n = 10, 10\n",
    "n -= 1\n",
    "funcs.n = n\n",
    "\n",
    "hh = (zad1['b'] - zad1['a']) / n\n",
    "us = sm.symbols(' '.join([f\"u{i}\" for i in range(count)]))\n",
    "list_x = [zad1['a'] + hh*i for i in range(count)]\n",
    "display(hh)\n",
    "display(us)\n",
    "display(list_x)"
   ]
  },
  {
   "cell_type": "markdown",
   "metadata": {
    "slideshow": {
     "slide_type": "subslide"
    }
   },
   "source": [
    "## Промоделировать процесс теплопроводности в зависимости от коэффициента k(x):"
   ]
  },
  {
   "cell_type": "code",
   "execution_count": 29,
   "metadata": {},
   "outputs": [
    {
     "data": {
      "text/latex": [
       "$\\displaystyle - x^{2} \\frac{d^{2}}{d x^{2}} u{\\left(x \\right)} - 2 x \\frac{d}{d x} u{\\left(x \\right)} = 2 x^{2} + 2 x$"
      ],
      "text/plain": [
       "       2                                  \n",
       "   2  d              d             2      \n",
       "- x ⋅───(u(x)) - 2⋅x⋅──(u(x)) = 2⋅x  + 2⋅x\n",
       "       2             dx                   \n",
       "     dx                                   "
      ]
     },
     "metadata": {},
     "output_type": "display_data"
    },
    {
     "data": {
      "text/latex": [
       "$\\displaystyle - \\frac{x \\left(u_{i+1} - u_{i-1}\\right)}{h} - \\frac{x^{2} \\left(- 2 u_{i} + u_{i+1} + u_{i-1}\\right)}{h^{2}} = 2 x^{2} + 2 x$"
      ],
      "text/plain": [
       "                     2                                   \n",
       "  x⋅(uᵢ₊₁ - uᵢ₋₁)   x ⋅(-2⋅uᵢ + uᵢ₊₁ + uᵢ₋₁)      2      \n",
       "- ─────────────── - ──────────────────────── = 2⋅x  + 2⋅x\n",
       "         h                      2                        \n",
       "                               h                         "
      ]
     },
     "metadata": {},
     "output_type": "display_data"
    }
   ],
   "source": [
    "main = sm.Eq(-diff(zad1['k']*ux1, x),  zad1['f']) #sm.Eq(-x**2*ux2 -2*x*ux1,  zad1['f'])\n",
    "display(main)\n",
    "#apro = sm.Eq(-x**2*uux2 -2*x*uux1,  zad1['f'])\n",
    "#display(apro)\n",
    "apro = main.replace(ux1, uux1).replace(ux2, uux2)\n",
    "display(apro)"
   ]
  },
  {
   "cell_type": "code",
   "execution_count": 33,
   "metadata": {},
   "outputs": [
    {
     "data": {
      "text/latex": [
       "$\\displaystyle - 20.8 u_{0} + 51.8 u_{1} - 31.0 u_{2} = 2.02$"
      ],
      "text/plain": [
       "-20.8⋅u₀ + 51.8⋅u₁ - 31.0⋅u₂ = 2.02"
      ]
     },
     "metadata": {},
     "output_type": "display_data"
    },
    {
     "data": {
      "text/latex": [
       "$\\displaystyle - 31.0 u_{1} + 74.2 u_{2} - 43.2 u_{3} = 2.6$"
      ],
      "text/plain": [
       "-31.0⋅u₁ + 74.2⋅u₂ - 43.2⋅u₃ = 2.6"
      ]
     },
     "metadata": {},
     "output_type": "display_data"
    },
    {
     "data": {
      "text/latex": [
       "$\\displaystyle - 43.2 u_{2} + 101.0 u_{3} - 57.4 u_{4} = 3.24$"
      ],
      "text/plain": [
       "-43.2⋅u₂ + 101.0⋅u₃ - 57.4⋅u₄ = 3.24"
      ]
     },
     "metadata": {},
     "output_type": "display_data"
    },
    {
     "data": {
      "text/latex": [
       "$\\displaystyle - 57.4 u_{3} + 131.0 u_{4} - 73.5 u_{5} = 3.93$"
      ],
      "text/plain": [
       "-57.4⋅u₃ + 131.0⋅u₄ - 73.5⋅u₅ = 3.93"
      ]
     },
     "metadata": {},
     "output_type": "display_data"
    },
    {
     "data": {
      "text/latex": [
       "$\\displaystyle - 73.5 u_{4} + 165.0 u_{5} - 91.7 u_{6} = 4.69$"
      ],
      "text/plain": [
       "-73.5⋅u₄ + 165.0⋅u₅ - 91.7⋅u₆ = 4.69"
      ]
     },
     "metadata": {},
     "output_type": "display_data"
    },
    {
     "data": {
      "text/latex": [
       "$\\displaystyle - 91.7 u_{5} + 204.0 u_{6} - 112.0 u_{7} = 5.51$"
      ],
      "text/plain": [
       "-91.7⋅u₅ + 204.0⋅u₆ - 112.0⋅u₇ = 5.51"
      ]
     },
     "metadata": {},
     "output_type": "display_data"
    },
    {
     "data": {
      "text/latex": [
       "$\\displaystyle - 112.0 u_{6} + 246.0 u_{7} - 134.0 u_{8} = 6.39$"
      ],
      "text/plain": [
       "-112.0⋅u₆ + 246.0⋅u₇ - 134.0⋅u₈ = 6.39"
      ]
     },
     "metadata": {},
     "output_type": "display_data"
    },
    {
     "data": {
      "text/latex": [
       "$\\displaystyle - 134.0 u_{7} + 292.0 u_{8} - 158.0 u_{9} = 7.32$"
      ],
      "text/plain": [
       "-134.0⋅u₇ + 292.0⋅u₈ - 158.0⋅u₉ = 7.32"
      ]
     },
     "metadata": {},
     "output_type": "display_data"
    },
    {
     "data": {
      "text/latex": [
       "$\\displaystyle u_{0} = 2.0$"
      ],
      "text/plain": [
       "u₀ = 2.0"
      ]
     },
     "metadata": {},
     "output_type": "display_data"
    },
    {
     "data": {
      "text/latex": [
       "$\\displaystyle u_{9} = 6.0$"
      ],
      "text/plain": [
       "u₉ = 6.0"
      ]
     },
     "metadata": {},
     "output_type": "display_data"
    }
   ],
   "source": [
    "tyts = [apro.subs({x: list_x[i], h: hh, uum1: us[i-1], uu0: us[i], uup1: us[i+1]})  for i in range(1,n)]\n",
    "tyts.append(sm.Eq(us[0], zad1['UA']))\n",
    "tyts.append(sm.Eq(us[count-1], zad1['UB']))\n",
    "display(*map(lambda e: e.n(3), tyts))"
   ]
  },
  {
   "cell_type": "code",
   "execution_count": 43,
   "metadata": {},
   "outputs": [
    {
     "data": {
      "text/latex": [
       "$\\displaystyle \\left( u_{0}, \\  2.0\\right)$"
      ],
      "text/plain": [
       "(u₀, 2.0)"
      ]
     },
     "metadata": {},
     "output_type": "display_data"
    },
    {
     "data": {
      "text/latex": [
       "$\\displaystyle \\left( u_{1}, \\  3.50920047031163\\right)$"
      ],
      "text/plain": [
       "(u₁, 3.50920047031163)"
      ]
     },
     "metadata": {},
     "output_type": "display_data"
    },
    {
     "data": {
      "text/latex": [
       "$\\displaystyle \\left( u_{2}, \\  4.45773846815315\\right)$"
      ],
      "text/plain": [
       "(u₂, 4.45773846815315)"
      ]
     },
     "metadata": {},
     "output_type": "display_data"
    },
    {
     "data": {
      "text/latex": [
       "$\\displaystyle \\left( u_{3}, \\  5.0786039886041\\right)$"
      ],
      "text/plain": [
       "(u₃, 5.0786039886041)"
      ]
     },
     "metadata": {},
     "output_type": "display_data"
    },
    {
     "data": {
      "text/latex": [
       "$\\displaystyle \\left( u_{4}, \\  5.48960096176086\\right)$"
      ],
      "text/plain": [
       "(u₄, 5.48960096176086)"
      ]
     },
     "metadata": {},
     "output_type": "display_data"
    },
    {
     "data": {
      "text/latex": [
       "$\\displaystyle \\left( u_{5}, \\  5.75669958847746\\right)$"
      ],
      "text/plain": [
       "(u₅, 5.75669958847746)"
      ]
     },
     "metadata": {},
     "output_type": "display_data"
    },
    {
     "data": {
      "text/latex": [
       "$\\displaystyle \\left( u_{6}, \\  5.91971971971981\\right)$"
      ],
      "text/plain": [
       "(u₆, 5.91971971971981)"
      ]
     },
     "metadata": {},
     "output_type": "display_data"
    },
    {
     "data": {
      "text/latex": [
       "$\\displaystyle \\left( u_{7}, \\  6.00411994872838\\right)$"
      ],
      "text/plain": [
       "(u₇, 6.00411994872838)"
      ]
     },
     "metadata": {},
     "output_type": "display_data"
    },
    {
     "data": {
      "text/latex": [
       "$\\displaystyle \\left( u_{8}, \\  6.02693647699498\\right)$"
      ],
      "text/plain": [
       "(u₈, 6.02693647699498)"
      ]
     },
     "metadata": {},
     "output_type": "display_data"
    },
    {
     "data": {
      "text/latex": [
       "$\\displaystyle \\left( u_{9}, \\  6.0\\right)$"
      ],
      "text/plain": [
       "(u₉, 6.0)"
      ]
     },
     "metadata": {},
     "output_type": "display_data"
    }
   ],
   "source": [
    "result = sm.solve(tyts, us)\n",
    "display(*result.items())"
   ]
  },
  {
   "cell_type": "code",
   "execution_count": 47,
   "metadata": {},
   "outputs": [
    {
     "data": {
      "text/plain": [
       "[<matplotlib.lines.Line2D at 0x11be8e30>]"
      ]
     },
     "execution_count": 47,
     "metadata": {},
     "output_type": "execute_result"
    },
    {
     "data": {
      "image/png": "[encoded data removed]",
      "text/plain": [
       "<Figure size 432x288 with 1 Axes>"
      ]
     },
     "metadata": {
      "needs_background": "light"
     },
     "output_type": "display_data"
    }
   ],
   "source": [
    "plt.plot(list_x, list(result.values()) )"
   ]
  },
  {
   "cell_type": "markdown",
   "metadata": {},
   "source": [
    "### Пусть стержень состоит из 2-x материалов с различными свойствами"
   ]
  },
  {
   "cell_type": "code",
   "execution_count": 50,
   "metadata": {},
   "outputs": [
    {
     "data": {
      "text/latex": [
       "$\\displaystyle 1.05$"
      ],
      "text/plain": [
       "1.05"
      ]
     },
     "execution_count": 50,
     "metadata": {},
     "output_type": "execute_result"
    }
   ],
   "source": [
    "zad2 = {'f': 2*x**2 + 2*x,\n",
    "        'k1': 1, 'k2': 2,\n",
    "        'a': 0.5, 'UA': 2,\n",
    "        'b': 1.6, 'UB': 6}\n",
    "\n",
    "M = (zad2['a'] + zad2['b']) / 2\n",
    "M"
   ]
  },
  {
   "cell_type": "code",
   "execution_count": 51,
   "metadata": {},
   "outputs": [
    {
     "data": {
      "text/latex": [
       "$\\displaystyle - k \\frac{d^{2}}{d x^{2}} u{\\left(x \\right)} = 2 x^{2} + 2 x$"
      ],
      "text/plain": [
       "     2                   \n",
       "    d             2      \n",
       "-k⋅───(u(x)) = 2⋅x  + 2⋅x\n",
       "     2                   \n",
       "   dx                    "
      ]
     },
     "metadata": {},
     "output_type": "display_data"
    },
    {
     "data": {
      "text/latex": [
       "$\\displaystyle - \\frac{k \\left(- 2 u_{i} + u_{i+1} + u_{i-1}\\right)}{h^{2}} = 2 x^{2} + 2 x$"
      ],
      "text/plain": [
       "-k⋅(-2⋅uᵢ + uᵢ₊₁ + uᵢ₋₁)       2      \n",
       "───────────────────────── = 2⋅x  + 2⋅x\n",
       "             2                        \n",
       "            h                         "
      ]
     },
     "metadata": {},
     "output_type": "display_data"
    }
   ],
   "source": [
    "main2 = sm.Eq(-diff(k*ux1, x),  zad2['f']) #sm.Eq(-x**2*ux2 -2*x*ux1,  zad1['f'])\n",
    "display(main2)\n",
    "#apro2 = sm.Eq(-x**2*uux2 -2*x*uux1,  zad1['f'])\n",
    "#display(apro2)\n",
    "apro2 = main2.replace(ux1, uux1).replace(ux2, uux2)\n",
    "display(apro2)"
   ]
  },
  {
   "cell_type": "code",
   "execution_count": 52,
   "metadata": {},
   "outputs": [
    {
     "name": "stdout",
     "output_type": "stream",
     "text": [
      "|    | k1<<k2                                    | k1>>k2                                    |\n",
      "|----|-------------------------------------------|-------------------------------------------|\n",
      "|  0 | Eq(8.68*u0 - 8.18*u1, 0)                  | Eq(16.9*u0 - 16.4*u1, 0)                  |\n",
      "|  1 | Eq(-66.9*u0 + 134.0*u1 - 66.9*u2, 2.02)   | Eq(-134.0*u0 + 268.0*u1 - 134.0*u2, 2.02) |\n",
      "|  2 | Eq(-66.9*u1 + 134.0*u2 - 66.9*u3, 2.6)    | Eq(-134.0*u1 + 268.0*u2 - 134.0*u3, 2.6)  |\n",
      "|  3 | Eq(-66.9*u2 + 134.0*u3 - 66.9*u4, 3.24)   | Eq(-134.0*u2 + 268.0*u3 - 134.0*u4, 3.24) |\n",
      "|  4 | Eq(-66.9*u3 + 134.0*u4 - 66.9*u5, 3.93)   | Eq(-134.0*u3 + 268.0*u4 - 134.0*u5, 3.93) |\n",
      "|  5 | Eq(-134.0*u4 + 268.0*u5 - 134.0*u6, 4.69) | Eq(-66.9*u4 + 134.0*u5 - 66.9*u6, 4.69)   |\n",
      "|  6 | Eq(-134.0*u5 + 268.0*u6 - 134.0*u7, 5.51) | Eq(-66.9*u5 + 134.0*u6 - 66.9*u7, 5.51)   |\n",
      "|  7 | Eq(-134.0*u6 + 268.0*u7 - 134.0*u8, 6.39) | Eq(-66.9*u6 + 134.0*u7 - 66.9*u8, 6.39)   |\n",
      "|  8 | Eq(-134.0*u7 + 268.0*u8 - 134.0*u9, 7.32) | Eq(-66.9*u7 + 134.0*u8 - 66.9*u9, 7.32)   |\n",
      "|  9 | Eq(16.4*u8 - 15.9*u9, 0)                  | Eq(8.18*u8 - 7.68*u9, 0)                  |\n"
     ]
    }
   ],
   "source": [
    "def gettyts2(K1, K2):\n",
    "    tyts2 = []\n",
    "    def_k = lambda x: (K1 if x <= M else K2)\n",
    "    #tyts.append(sm.Eq((-us[2]+4*us[1]-3*us[0])/(2*hh), zad1['UA']))\n",
    "    tyts2.append(sm.Eq(-K1*(us[1]-us[0])/(hh) + 0.5*us[0], 0))\n",
    "    tyts2.extend([apro2.subs({x: list_x[i], k: def_k(list_x[i]), \n",
    "                            h: hh, uum1: us[i-1], uu0: us[i], uup1: us[i+1]})  for i in range(1,n)])\n",
    "    tyts2.append(sm.Eq(K2*(us[count-2]-us[count-1])/(hh) + 0.5*us[count-1], 0))\n",
    "    return tyts2\n",
    "tyts2 = gettyts2(zad2['k1'], zad2['k2'])\n",
    "tyts21 = gettyts2(zad2['k2'], zad2['k1'])\n",
    "maper10 = lambda ar: list(map(lambda e: e.n(3), ar))\n",
    "print(tabulate({'k1<<k2':maper10(tyts2), 'k1>>k2':maper10(tyts21)}, headers='keys', showindex=\"always\", tablefmt=\"github\" , floatfmt=\".3f\"))"
   ]
  },
  {
   "cell_type": "code",
   "execution_count": 54,
   "metadata": {
    "scrolled": true
   },
   "outputs": [
    {
     "name": "stdout",
     "output_type": "stream",
     "text": [
      "| U   |   k1<<k2 |   k1>>k2 |\n",
      "|-----|----------|----------|\n",
      "| u0  |   22.434 |   -7.625 |\n",
      "| u1  |   23.805 |   -7.857 |\n",
      "| u2  |   25.148 |   -8.105 |\n",
      "| u3  |   26.449 |   -8.373 |\n",
      "| u4  |   27.703 |   -8.664 |\n",
      "| u5  |   28.898 |   -8.986 |\n",
      "| u6  |   30.059 |   -9.377 |\n",
      "| u7  |   31.176 |   -9.850 |\n",
      "| u8  |   32.250 |  -10.420 |\n",
      "| u9  |   33.266 |  -11.098 |\n"
     ]
    }
   ],
   "source": [
    "result = sm.solve(tyts2, us)\n",
    "result2 = sm.solve(tyts21, us)\n",
    "print(tabulate({'U':result.keys(), 'k1<<k2':maper10(result.values()), 'k1>>k2':maper10(result2.values())}, headers='keys', tablefmt=\"github\" , floatfmt=\".3f\"))"
   ]
  },
  {
   "cell_type": "markdown",
   "metadata": {},
   "source": [
    "### Пусть стержень состоит из 3-x материалов с различными свойствами"
   ]
  },
  {
   "cell_type": "code",
   "execution_count": 58,
   "metadata": {},
   "outputs": [],
   "source": [
    "zad3 = {'f': 2*x**2 + 2*x,\n",
    "        'k01': 1, 'k02': 2, 'k03': 3,\n",
    "        'k11': 3, 'k12': 2, 'k13': 1,\n",
    "        'k21': 2, 'k22': 4, 'k23': 2,\n",
    "        'k31': 60, 'k32': 3, 'k33': 60,\n",
    "        'a': 0.5, 'UA': 2,\n",
    "        'b': 1.6, 'UB': 6}\n",
    "M1 = zad3['a'] + (zad3['b'] - zad3['a']) / 3\n",
    "M2 = zad3['a'] + 2*(zad3['b'] - zad3['a']) / 3"
   ]
  },
  {
   "cell_type": "code",
   "execution_count": 59,
   "metadata": {},
   "outputs": [
    {
     "name": "stdout",
     "output_type": "stream",
     "text": [
      "    | k1 < k2 < k3                              | k1 > k2 > k3\n",
      "----+-------------------------------------------+-------------------------------------------\n",
      "  0 | Eq(8.68*u0 - 8.18*u1, 0)                  | Eq(25.0*u0 - 24.5*u1, 0)\n",
      "  1 | Eq(-66.9*u0 + 134.0*u1 - 66.9*u2, 2.02)   | Eq(-201.0*u0 + 402.0*u1 - 201.0*u2, 2.02)\n",
      "  2 | Eq(-66.9*u1 + 134.0*u2 - 66.9*u3, 2.6)    | Eq(-201.0*u1 + 402.0*u2 - 201.0*u3, 2.6)\n",
      "  3 | Eq(-66.9*u2 + 134.0*u3 - 66.9*u4, 3.24)   | Eq(-201.0*u2 + 402.0*u3 - 201.0*u4, 3.24)\n",
      "  4 | Eq(-134.0*u3 + 268.0*u4 - 134.0*u5, 3.93) | Eq(-134.0*u3 + 268.0*u4 - 134.0*u5, 3.93)\n",
      "  5 | Eq(-134.0*u4 + 268.0*u5 - 134.0*u6, 4.69) | Eq(-134.0*u4 + 268.0*u5 - 134.0*u6, 4.69)\n",
      "  6 | Eq(-134.0*u5 + 268.0*u6 - 134.0*u7, 5.51) | Eq(-134.0*u5 + 268.0*u6 - 134.0*u7, 5.51)\n",
      "  7 | Eq(-201.0*u6 + 402.0*u7 - 201.0*u8, 6.39) | Eq(-66.9*u6 + 134.0*u7 - 66.9*u8, 6.39)\n",
      "  8 | Eq(-201.0*u7 + 402.0*u8 - 201.0*u9, 7.32) | Eq(-66.9*u7 + 134.0*u8 - 66.9*u9, 7.32)\n",
      "  9 | Eq(16.4*u8 - 15.9*u9, 0)                  | Eq(16.4*u8 - 15.9*u9, 0)\n",
      "\n",
      "    | k1=k, k2=2k, k3=k                         | k1=20k, k2=k, k3=20k\n",
      "----+-------------------------------------------+-------------------------------------------------\n",
      "  0 | Eq(16.9*u0 - 16.4*u1, 0)                  | Eq(491.0*u0 - 491.0*u1, 0)\n",
      "  1 | Eq(-134.0*u0 + 268.0*u1 - 134.0*u2, 2.02) | Eq(-4.02e+3*u0 + 8.03e+3*u1 - 4.02e+3*u2, 2.02)\n",
      "  2 | Eq(-134.0*u1 + 268.0*u2 - 134.0*u3, 2.6)  | Eq(-4.02e+3*u1 + 8.03e+3*u2 - 4.02e+3*u3, 2.6)\n",
      "  3 | Eq(-134.0*u2 + 268.0*u3 - 134.0*u4, 3.24) | Eq(-4.02e+3*u2 + 8.03e+3*u3 - 4.02e+3*u4, 3.24)\n",
      "  4 | Eq(-268.0*u3 + 536.0*u4 - 268.0*u5, 3.93) | Eq(-201.0*u3 + 402.0*u4 - 201.0*u5, 3.93)\n",
      "  5 | Eq(-268.0*u4 + 536.0*u5 - 268.0*u6, 4.69) | Eq(-201.0*u4 + 402.0*u5 - 201.0*u6, 4.69)\n",
      "  6 | Eq(-268.0*u5 + 536.0*u6 - 268.0*u7, 5.51) | Eq(-201.0*u5 + 402.0*u6 - 201.0*u7, 5.51)\n",
      "  7 | Eq(-134.0*u6 + 268.0*u7 - 134.0*u8, 6.39) | Eq(-4.02e+3*u6 + 8.03e+3*u7 - 4.02e+3*u8, 6.39)\n",
      "  8 | Eq(-134.0*u7 + 268.0*u8 - 134.0*u9, 7.32) | Eq(-4.02e+3*u7 + 8.03e+3*u8 - 4.02e+3*u9, 7.32)\n",
      "  9 | Eq(32.7*u8 - 32.2*u9, 0)                  | Eq(24.5*u8 - 24.0*u9, 0)\n"
     ]
    }
   ],
   "source": [
    "def gettyts3(K1, K2, K3):\n",
    "    tyts3 = []\n",
    "    def_k = lambda x: (K1 if x <= M1 else (K2 if x <= M2 else K3))\n",
    "    #tyts.append(sm.Eq((-us[2]+4*us[1]-3*us[0])/(2*hh), zad1['UA']))\n",
    "    tyts3.append(sm.Eq(-K1*(us[1]-us[0])/(hh) + 0.5*us[0], 0))\n",
    "    tyts3.extend([apro2.subs({x: list_x[i], k: def_k(list_x[i]), \n",
    "                            h: hh, uum1: us[i-1], uu0: us[i], uup1: us[i+1]})  for i in range(1,n)])\n",
    "    tyts3.append(sm.Eq(K2*(us[count-2]-us[count-1])/(hh) + 0.5*us[count-1], 0))\n",
    "    return tyts3\n",
    "tyts3 = gettyts3(zad3['k01'], zad3['k02'], zad3['k03'])\n",
    "tyts31 = gettyts3(zad3['k11'], zad3['k12'], zad3['k13'])\n",
    "tyts32 = gettyts3(zad3['k21'], zad3['k22'], zad3['k23'])\n",
    "tyts33 = gettyts3(zad3['k31'], zad3['k32'], zad3['k33'])\n",
    "maper10 = lambda ar: list(map(lambda e: e.n(3), ar))\n",
    "print(tabulate({'k1 < k2 < k3':maper10(tyts3), 'k1 > k2 > k3':maper10(tyts31)}, headers='keys', showindex=\"always\", tablefmt=\"presto\" , floatfmt=\".3f\"))\n",
    "print()\n",
    "print(tabulate({'k1=k, k2=2k, k3=k':maper10(tyts32), 'k1=20k, k2=k, k3=20k':maper10(tyts33)}, headers='keys', showindex=\"always\", tablefmt=\"presto\" , floatfmt=\".3f\"))"
   ]
  },
  {
   "cell_type": "code",
   "execution_count": 60,
   "metadata": {},
   "outputs": [
    {
     "name": "stdout",
     "output_type": "stream",
     "text": [
      "| U   |   k1 < k2 < k3 |   k1 > k2 > k3 |   k1=k, k2=2k, k3=k |   k1=20k, k2=k, k3=20k |\n",
      "|-----|----------------|----------------|---------------------|------------------------|\n",
      "| u0  |         18.254 |        -20.242 |              18.262 |                 -3.572 |\n",
      "| u1  |         19.371 |        -20.656 |              18.820 |                 -3.576 |\n",
      "| u2  |         20.453 |        -21.078 |              19.363 |                 -3.580 |\n",
      "| u3  |         21.500 |        -21.512 |              19.887 |                 -3.585 |\n",
      "| u4  |         22.500 |        -21.965 |              20.383 |                 -3.590 |\n",
      "| u5  |         23.469 |        -22.445 |              20.867 |                 -3.616 |\n",
      "| u6  |         24.402 |        -22.961 |              21.336 |                 -3.664 |\n",
      "| u7  |         25.293 |        -23.516 |              21.781 |                 -3.740 |\n",
      "| u8  |         26.156 |        -24.168 |              22.180 |                 -3.818 |\n",
      "| u9  |         26.980 |        -24.934 |              22.527 |                 -3.897 |\n"
     ]
    }
   ],
   "source": [
    "result = sm.solve(tyts3, us)\n",
    "result2 = sm.solve(tyts31, us)\n",
    "result3 = sm.solve(tyts32, us)\n",
    "result4 = sm.solve(tyts33, us)\n",
    "print(tabulate({'U':result.keys(), 'k1 < k2 < k3':maper10(result.values()), 'k1 > k2 > k3':maper10(result2.values()),\n",
    "                'k1=k, k2=2k, k3=k':maper10(result3.values()), 'k1=20k, k2=k, k3=20k':maper10(result4.values())}, headers='keys', tablefmt=\"github\" , floatfmt=\".3f\"))"
   ]
  },
  {
   "cell_type": "code",
   "execution_count": 74,
   "metadata": {},
   "outputs": [
    {
     "data": {
      "text/plain": [
       "<matplotlib.legend.Legend at 0xbe8d610>"
      ]
     },
     "execution_count": 74,
     "metadata": {},
     "output_type": "execute_result"
    },
    {
     "data": {
      "image/png": "[encoded data removed]",
      "text/plain": [
       "<Figure size 432x288 with 1 Axes>"
      ]
     },
     "metadata": {
      "needs_background": "light"
     },
     "output_type": "display_data"
    }
   ],
   "source": [
    "plt.plot( list_x, list(result.values()), label=\"k1 < k2 < k3\")\n",
    "plt.plot(list_x, list(result2.values()), label=\"k1 > k2 > k3\")\n",
    "plt.plot(list_x, list(result3.values()), label=\"k1=k, k2=2k, k3=k\")\n",
    "plt.plot(list_x, list(result4.values()), label=\"k1=20k, k2=k, k3=20k\")\n",
    "plt.legend(loc='best')"
   ]
  },
  {
   "cell_type": "code",
   "execution_count": null,
   "metadata": {},
   "outputs": [],
   "source": []
  }
 ],
 "metadata": {
  "hide_input": false,
  "kernelspec": {
   "display_name": "Python 3",
   "language": "python",
   "name": "python3"
  },
  "language_info": {
   "codemirror_mode": {
    "name": "ipython",
    "version": 3
   },
   "file_extension": ".py",
   "mimetype": "text/x-python",
   "name": "python",
   "nbconvert_exporter": "python",
   "pygments_lexer": "ipython3",
   "version": "3.7.2"
  },
  "toc": {
   "base_numbering": 1,
   "nav_menu": {},
   "number_sections": true,
   "sideBar": true,
   "skip_h1_title": false,
   "title_cell": "Table of Contents",
   "title_sidebar": "Contents",
   "toc_cell": false,
   "toc_position": {},
   "toc_section_display": true,
   "toc_window_display": false
  },
  "varInspector": {
   "cols": {
    "lenName": 16,
    "lenType": 16,
    "lenVar": 40
   },
   "kernels_config": {
    "python": {
     "delete_cmd_postfix": "",
     "delete_cmd_prefix": "del ",
     "library": "var_list.py",
     "varRefreshCmd": "print(var_dic_list())"
    },
    "r": {
     "delete_cmd_postfix": ") ",
     "delete_cmd_prefix": "rm(",
     "library": "var_list.r",
     "varRefreshCmd": "cat(var_dic_list()) "
    }
   },
   "position": {
    "height": "743px",
    "left": "1494px",
    "right": "20px",
    "top": "138px",
    "width": "336px"
   },
   "types_to_exclude": [
    "module",
    "function",
    "builtin_function_or_method",
    "instance",
    "_Feature"
   ],
   "window_display": false
  }
 },
 "nbformat": 4,
 "nbformat_minor": 2
}
